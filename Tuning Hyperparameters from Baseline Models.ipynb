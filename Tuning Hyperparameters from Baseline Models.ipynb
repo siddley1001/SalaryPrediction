{
 "cells": [
  {
   "cell_type": "markdown",
   "metadata": {},
   "source": [
    "# Table of contents\n",
    "1. [*Import* Libraries](#libs)\n",
    "2. [Some paragraph](#paragraph1)\n",
    "    1. [Sub paragraph](#subparagraph1)\n",
    "3. [Another paragraph](#paragraph2)"
   ]
  },
  {
   "cell_type": "markdown",
   "metadata": {},
   "source": [
    "## 1. <i>Import</i> Libraries <a name = \"libs\"></a>\""
   ]
  },
  {
   "cell_type": "code",
   "execution_count": 1,
   "metadata": {
    "scrolled": true
   },
   "outputs": [
    {
     "name": "stderr",
     "output_type": "stream",
     "text": [
      "/Users/vanamsid/opt/anaconda3/lib/python3.7/site-packages/lightgbm/__init__.py:48: UserWarning: Starting from version 2.2.1, the library file in distribution wheels for macOS is built by the Apple Clang (Xcode_8.3.3) compiler.\n",
      "This means that in case of installing LightGBM from PyPI via the ``pip install lightgbm`` command, you don't need to install the gcc compiler anymore.\n",
      "Instead of that, you need to install the OpenMP library, which is required for running LightGBM on the system with the Apple Clang compiler.\n",
      "You can install the OpenMP library by the following command: ``brew install libomp``.\n",
      "  \"You can install the OpenMP library by the following command: ``brew install libomp``.\", UserWarning)\n",
      "/Users/vanamsid/opt/anaconda3/lib/python3.7/site-packages/sklearn/utils/deprecation.py:144: FutureWarning: The sklearn.metrics.scorer module is  deprecated in version 0.22 and will be removed in version 0.24. The corresponding classes / functions should instead be imported from sklearn.metrics. Anything that cannot be imported from sklearn.metrics is now part of the private API.\n",
      "  warnings.warn(message, FutureWarning)\n",
      "/Users/vanamsid/opt/anaconda3/lib/python3.7/site-packages/sklearn/utils/deprecation.py:144: FutureWarning: The sklearn.feature_selection.base module is  deprecated in version 0.22 and will be removed in version 0.24. The corresponding classes / functions should instead be imported from sklearn.feature_selection. Anything that cannot be imported from sklearn.feature_selection is now part of the private API.\n",
      "  warnings.warn(message, FutureWarning)\n"
     ]
    }
   ],
   "source": [
    "import pandas as pd\n",
    "import numpy as np\n",
    "import matplotlib.pyplot as plt\n",
    "%matplotlib inline\n",
    "import seaborn as sns\n",
    "\n",
    "from sklearn.linear_model import LinearRegression\n",
    "from sklearn.ensemble import RandomForestRegressor\n",
    "from sklearn.ensemble import GradientBoostingRegressor\n",
    "\n",
    "from xgboost import XGBRegressor\n",
    "from lightgbm import LGBMRegressor\n",
    "\n",
    "from sklearn.metrics import mean_squared_error, make_scorer\n",
    "from  sklearn.pipeline import make_pipeline\n",
    "from sklearn.model_selection import cross_val_score, train_test_split\n",
    "\n",
    "from hyperopt import hp, fmin, tpe, Trials\n",
    "from hyperopt.pyll.base import scope\n",
    "\n",
    "import pickle\n",
    "import eli5\n",
    "\n",
    "__author__ = \"Sid Vanam\"\n",
    "__email__ = \"vanamsid@gmail.com\""
   ]
  },
  {
   "cell_type": "markdown",
   "metadata": {},
   "source": [
    "## Create Helper Functions"
   ]
  },
  {
   "cell_type": "code",
   "execution_count": 2,
   "metadata": {},
   "outputs": [],
   "source": [
    "def round_dict(dic):\n",
    "    '''rounds the dictionary values to int values'''\n",
    "    for k,v in dic.items():\n",
    "        if k == 'learning_rate':\n",
    "            pass\n",
    "        dic[k] = round(v)\n",
    "    return dic"
   ]
  },
  {
   "cell_type": "markdown",
   "metadata": {},
   "source": [
    "## Import Train and Test data"
   ]
  },
  {
   "cell_type": "code",
   "execution_count": 3,
   "metadata": {},
   "outputs": [],
   "source": [
    "'''Read Train Data'''\n",
    "with open('../salary prediction data/Pickle Data/TRAIN_X.pkl', 'rb') as temp0:\n",
    "    X_train = pickle.load(temp0)\n",
    "with open('../salary prediction data/Pickle Data/TRAIN_Y.pkl', 'rb') as temp1:\n",
    "    y_train = pickle.load(temp1)\n",
    "    \n",
    "'''Read Validation Data'''\n",
    "with open('../salary prediction data/Pickle Data/VALID_X.pkl', 'rb') as temp2:\n",
    "    X_valid = pickle.load(temp2)\n",
    "with open('../salary prediction data/Pickle Data/VALID_Y.pkl', 'rb') as temp3:\n",
    "    y_valid = pickle.load(temp3)\n",
    "    \n",
    "'''Read Test Data'''\n",
    "with open('../salary prediction data/Pickle Data/TEST_X.pkl', 'rb') as temp4:\n",
    "    X_test = pickle.load(temp4)\n",
    "with open('../salary prediction data/Pickle Data/TEST_Y.pkl', 'rb') as temp5:\n",
    "    y_test = pickle.load(temp5)"
   ]
  },
  {
   "cell_type": "code",
   "execution_count": 4,
   "metadata": {},
   "outputs": [
    {
     "data": {
      "text/plain": [
       "(799996, 27)"
      ]
     },
     "execution_count": 4,
     "metadata": {},
     "output_type": "execute_result"
    }
   ],
   "source": [
    "X = pd.concat([X_train, X_valid], axis= 0)\n",
    "X.shape"
   ]
  },
  {
   "cell_type": "code",
   "execution_count": 5,
   "metadata": {},
   "outputs": [
    {
     "data": {
      "text/plain": [
       "(799996,)"
      ]
     },
     "execution_count": 5,
     "metadata": {},
     "output_type": "execute_result"
    }
   ],
   "source": [
    "y = pd.concat([y_train, y_valid], axis = 0)\n",
    "y.shape"
   ]
  },
  {
   "cell_type": "markdown",
   "metadata": {},
   "source": [
    "## Load Models"
   ]
  },
  {
   "cell_type": "code",
   "execution_count": 6,
   "metadata": {},
   "outputs": [
    {
     "name": "stdout",
     "output_type": "stream",
     "text": [
      "[22:35:23] WARNING: src/objective/regression_obj.cu:152: reg:linear is now deprecated in favor of reg:squarederror.\n"
     ]
    }
   ],
   "source": [
    "with open('../salary prediction data/Base Models/base_lr.pkl', 'rb') as temp0:\n",
    "    base_lr = pickle.load(temp0)\n",
    "with open('../salary prediction data/Base Models/base_rf.pkl', 'rb') as temp1:\n",
    "    base_rf = pickle.load(temp1)\n",
    "with open('../salary prediction data/Base Models/base_gbr.pkl', 'rb') as temp2:\n",
    "    base_gbr = pickle.load(temp2)\n",
    "with open('../salary prediction data/Base Models/base_xgbr.pkl', 'rb') as temp3:\n",
    "    base_xgbr = pickle.load(temp3)"
   ]
  },
  {
   "cell_type": "markdown",
   "metadata": {},
   "source": [
    "# Tune Hyperparameters with Hyperopt library"
   ]
  },
  {
   "cell_type": "markdown",
   "metadata": {},
   "source": [
    "## Random Forest"
   ]
  },
  {
   "cell_type": "code",
   "execution_count": 11,
   "metadata": {},
   "outputs": [],
   "source": [
    "seed=42"
   ]
  },
  {
   "cell_type": "code",
   "execution_count": 8,
   "metadata": {
    "scrolled": true
   },
   "outputs": [
    {
     "name": "stdout",
     "output_type": "stream",
     "text": [
      "100%|██████████| 100/100 [12:28:57<00:00, 449.37s/trial, best loss: 370.8211727768809]  \n",
      "{'max_depth': 22.307401645904864, 'min_samples_leaf': 19.084895345230084, 'min_samples_split': 10.537707786140446, 'n_estimators': 397.23100705774596}\n"
     ]
    }
   ],
   "source": [
    "def objective(params):\n",
    "    est=int(params['n_estimators'])\n",
    "    md=int(params['max_depth'])\n",
    "    msl=int(params['min_samples_leaf'])\n",
    "    mss=int(params['min_samples_split'])\n",
    "    \n",
    "    model=RandomForestRegressor(n_estimators= est, max_depth= md, \n",
    "                                min_samples_leaf= msl, min_samples_split= mss, n_jobs = -1)\n",
    "    model.fit(X_train,y_train)\n",
    "    predictions= model.predict(X_valid)\n",
    "    score= mean_squared_error(y_valid, predictions)\n",
    "    return score\n",
    "\n",
    "def optimize(trial):\n",
    "    params={'n_estimators': hp.uniform('n_estimators',50,500),\n",
    "           'max_depth': hp.uniform('max_depth',5,30),\n",
    "           'min_samples_leaf': hp.uniform('min_samples_leaf',1,20),\n",
    "           'min_samples_split': hp.uniform('min_samples_split',2,15)\n",
    "           }\n",
    "    \n",
    "    best= fmin(fn= objective, space= params, algo= tpe.suggest,\n",
    "              trials= trial, max_evals=100, rstate=np.random.RandomState(seed))\n",
    "    return best\n",
    "\n",
    "rf_trials = Trials()\n",
    "best_rf = optimize(rf_trials)\n",
    "print(best_rf)"
   ]
  },
  {
   "cell_type": "code",
   "execution_count": 9,
   "metadata": {},
   "outputs": [],
   "source": [
    "best_rf = round_dict(best_rf)\n",
    "best_rf_model = RandomForestRegressor(**best_rf, n_jobs= -1)"
   ]
  },
  {
   "cell_type": "markdown",
   "metadata": {},
   "source": [
    "## Gradient Boosting Regressor"
   ]
  },
  {
   "cell_type": "code",
   "execution_count": 12,
   "metadata": {},
   "outputs": [
    {
     "name": "stdout",
     "output_type": "stream",
     "text": [
      "100%|██████████| 100/100 [33:14:08<00:00, 1196.49s/trial, best loss: 356.7761507780902]   \n",
      "{'learning_rate': 0.08784438627182596, 'max_depth': 6.390430318247735, 'min_samples_leaf': 6.7696079290589335, 'n_estimators': 362.8394734423886}\n"
     ]
    }
   ],
   "source": [
    "def gbr_objective(params):\n",
    "    lr = float(params['learning_rate'])\n",
    "    est = int(params['n_estimators'])\n",
    "    md = int(params['max_depth'])\n",
    "    msl = int(params['min_samples_leaf'])\n",
    "    \n",
    "    model = GradientBoostingRegressor(learning_rate = lr, n_estimators = est,\n",
    "                                      max_depth = md, min_samples_leaf = msl)\n",
    "    model.fit(X_train,y_train)\n",
    "    predictions = model.predict(X_valid)\n",
    "    score = mean_squared_error(y_valid, predictions)\n",
    "    return score\n",
    "\n",
    "def optimize_gbr(trial):\n",
    "    params= {'n_estimators': hp.uniform('n_estimators',50,500),\n",
    "           'max_depth': hp.uniform('max_depth',5,20),\n",
    "           'min_samples_leaf': hp.uniform('min_samples_leaf',1,15),\n",
    "           'learning_rate': hp.uniform('learning_rate',0,1)\n",
    "           }\n",
    "    best = fmin(fn= gbr_objective, space= params, algo= tpe.suggest,\n",
    "               trials = gbr_trials, max_evals= 100, rstate= np.random.RandomState(seed))\n",
    "    return best\n",
    "gbr_trials = Trials()\n",
    "best_gbr = optimize_gbr(gbr_trials)\n",
    "print(best_gbr)"
   ]
  },
  {
   "cell_type": "code",
   "execution_count": 13,
   "metadata": {},
   "outputs": [],
   "source": [
    "best_gbr = round_dict(best_gbr)\n",
    "best_gbr_model = GradientBoostingRegressor(**best_gbr)"
   ]
  },
  {
   "cell_type": "markdown",
   "metadata": {},
   "source": [
    "## LightGBM Regressor"
   ]
  },
  {
   "cell_type": "code",
   "execution_count": 14,
   "metadata": {},
   "outputs": [
    {
     "name": "stdout",
     "output_type": "stream",
     "text": [
      "100%|██████████| 100/100 [15:09<00:00,  9.10s/trial, best loss: 356.424364512375] \n",
      "{'learning_rate': 0.0639840702751215, 'max_depth': 9.427637735168476, 'min_split_gain': 11.849773227982057, 'n_estimators': 436.0472929446729}\n"
     ]
    }
   ],
   "source": [
    "def lgbr_objective(params):\n",
    "    lr = float(params['learning_rate'])\n",
    "    est = int(params['n_estimators'])\n",
    "    md = int(params['max_depth'])\n",
    "    min_loss = float(params['min_split_gain'])\n",
    "    \n",
    "    model = LGBMRegressor(learning_rate= lr, n_estimators= est, max_depth= md,\n",
    "                         min_split_gain= min_loss, n_jobs= -1)\n",
    "    \n",
    "    model.fit(X_train, y_train)\n",
    "    predictions = model.predict(X_valid)\n",
    "    score = mean_squared_error(y_valid, predictions)\n",
    "    return score\n",
    "\n",
    "def optimize_lgbr(trial):\n",
    "    params = {'learning_rate': hp.uniform('learning_rate',0,1),\n",
    "              'n_estimators': hp.uniform('n_estimators',50,500),\n",
    "              'max_depth': hp.uniform('max_depth',5,20),\n",
    "              'min_split_gain': hp.uniform('min_split_gain',0,50)\n",
    "           }\n",
    "    best = fmin(fn = lgbr_objective, space = params, algo = tpe.suggest,\n",
    "                trials = lgbr_trials, max_evals = 100, rstate = np.random.RandomState(seed))\n",
    "    \n",
    "    return best\n",
    "\n",
    "lgbr_trials = Trials()\n",
    "best_lgbr = optimize_lgbr(lgbr_trials)\n",
    "print(best_lgbr)"
   ]
  },
  {
   "cell_type": "code",
   "execution_count": 15,
   "metadata": {},
   "outputs": [],
   "source": [
    "best_lgbr = round_dict(best_lgbr)\n",
    "best_lgbr_model = LGBMRegressor(**best_lgbr, n_jobs= -1)"
   ]
  },
  {
   "cell_type": "markdown",
   "metadata": {},
   "source": [
    "## XGBoost Regressor"
   ]
  },
  {
   "cell_type": "code",
   "execution_count": 16,
   "metadata": {},
   "outputs": [
    {
     "name": "stdout",
     "output_type": "stream",
     "text": [
      "[18:17:18] WARNING: src/objective/regression_obj.cu:152: reg:linear is now deprecated in favor of reg:squarederror.\n",
      "[18:33:22] WARNING: src/objective/regression_obj.cu:152: reg:linear is now deprecated in favor of reg:squarederror.\n",
      "[18:46:11] WARNING: src/objective/regression_obj.cu:152: reg:linear is now deprecated in favor of reg:squarederror.\n",
      "[19:31:27] WARNING: src/objective/regression_obj.cu:152: reg:linear is now deprecated in favor of reg:squarederror.\n",
      "[19:55:48] WARNING: src/objective/regression_obj.cu:152: reg:linear is now deprecated in favor of reg:squarederror.\n",
      "[20:09:26] WARNING: src/objective/regression_obj.cu:152: reg:linear is now deprecated in favor of reg:squarederror.\n",
      "[20:27:41] WARNING: src/objective/regression_obj.cu:152: reg:linear is now deprecated in favor of reg:squarederror.\n",
      "[21:01:20] WARNING: src/objective/regression_obj.cu:152: reg:linear is now deprecated in favor of reg:squarederror.\n",
      "[21:23:21] WARNING: src/objective/regression_obj.cu:152: reg:linear is now deprecated in favor of reg:squarederror.\n",
      "[21:46:23] WARNING: src/objective/regression_obj.cu:152: reg:linear is now deprecated in favor of reg:squarederror.\n",
      "[22:16:31] WARNING: src/objective/regression_obj.cu:152: reg:linear is now deprecated in favor of reg:squarederror.\n",
      "[22:20:24] WARNING: src/objective/regression_obj.cu:152: reg:linear is now deprecated in favor of reg:squarederror.\n",
      "[22:36:34] WARNING: src/objective/regression_obj.cu:152: reg:linear is now deprecated in favor of reg:squarederror.\n",
      "[22:50:41] WARNING: src/objective/regression_obj.cu:152: reg:linear is now deprecated in favor of reg:squarederror.\n",
      "[22:54:59] WARNING: src/objective/regression_obj.cu:152: reg:linear is now deprecated in favor of reg:squarederror.\n",
      "[23:20:19] WARNING: src/objective/regression_obj.cu:152: reg:linear is now deprecated in favor of reg:squarederror.\n",
      "[23:38:22] WARNING: src/objective/regression_obj.cu:152: reg:linear is now deprecated in favor of reg:squarederror.\n",
      "[23:44:16] WARNING: src/objective/regression_obj.cu:152: reg:linear is now deprecated in favor of reg:squarederror.\n",
      "[00:06:21] WARNING: src/objective/regression_obj.cu:152: reg:linear is now deprecated in favor of reg:squarederror.\n",
      "[00:17:54] WARNING: src/objective/regression_obj.cu:152: reg:linear is now deprecated in favor of reg:squarederror.\n",
      "[00:33:01] WARNING: src/objective/regression_obj.cu:152: reg:linear is now deprecated in favor of reg:squarederror.\n",
      "[00:35:12] WARNING: src/objective/regression_obj.cu:152: reg:linear is now deprecated in favor of reg:squarederror.\n",
      "[00:36:59] WARNING: src/objective/regression_obj.cu:152: reg:linear is now deprecated in favor of reg:squarederror.\n",
      "[00:38:30] WARNING: src/objective/regression_obj.cu:152: reg:linear is now deprecated in favor of reg:squarederror.\n",
      "[00:41:17] WARNING: src/objective/regression_obj.cu:152: reg:linear is now deprecated in favor of reg:squarederror.\n",
      "[00:42:50] WARNING: src/objective/regression_obj.cu:152: reg:linear is now deprecated in favor of reg:squarederror.\n",
      "[00:45:53] WARNING: src/objective/regression_obj.cu:152: reg:linear is now deprecated in favor of reg:squarederror.\n",
      "[00:50:03] WARNING: src/objective/regression_obj.cu:152: reg:linear is now deprecated in favor of reg:squarederror.\n",
      "[00:52:39] WARNING: src/objective/regression_obj.cu:152: reg:linear is now deprecated in favor of reg:squarederror.\n",
      "[00:56:06] WARNING: src/objective/regression_obj.cu:152: reg:linear is now deprecated in favor of reg:squarederror.\n",
      "[00:59:16] WARNING: src/objective/regression_obj.cu:152: reg:linear is now deprecated in favor of reg:squarederror.\n",
      "[01:05:45] WARNING: src/objective/regression_obj.cu:152: reg:linear is now deprecated in favor of reg:squarederror.\n",
      "[01:08:18] WARNING: src/objective/regression_obj.cu:152: reg:linear is now deprecated in favor of reg:squarederror.\n",
      "[01:09:38] WARNING: src/objective/regression_obj.cu:152: reg:linear is now deprecated in favor of reg:squarederror.\n",
      "[01:14:31] WARNING: src/objective/regression_obj.cu:152: reg:linear is now deprecated in favor of reg:squarederror.\n",
      "[01:20:54] WARNING: src/objective/regression_obj.cu:152: reg:linear is now deprecated in favor of reg:squarederror.\n",
      "[01:27:01] WARNING: src/objective/regression_obj.cu:152: reg:linear is now deprecated in favor of reg:squarederror.\n",
      "[01:30:48] WARNING: src/objective/regression_obj.cu:152: reg:linear is now deprecated in favor of reg:squarederror.\n",
      "[01:32:53] WARNING: src/objective/regression_obj.cu:152: reg:linear is now deprecated in favor of reg:squarederror.\n",
      "[01:34:15] WARNING: src/objective/regression_obj.cu:152: reg:linear is now deprecated in favor of reg:squarederror.\n",
      "[01:36:12] WARNING: src/objective/regression_obj.cu:152: reg:linear is now deprecated in favor of reg:squarederror.\n",
      "[01:37:58] WARNING: src/objective/regression_obj.cu:152: reg:linear is now deprecated in favor of reg:squarederror.\n",
      "[01:42:25] WARNING: src/objective/regression_obj.cu:152: reg:linear is now deprecated in favor of reg:squarederror.\n",
      "[01:48:58] WARNING: src/objective/regression_obj.cu:152: reg:linear is now deprecated in favor of reg:squarederror.\n",
      "[01:53:52] WARNING: src/objective/regression_obj.cu:152: reg:linear is now deprecated in favor of reg:squarederror.\n",
      "[02:01:19] WARNING: src/objective/regression_obj.cu:152: reg:linear is now deprecated in favor of reg:squarederror.\n",
      "[02:19:35] WARNING: src/objective/regression_obj.cu:152: reg:linear is now deprecated in favor of reg:squarederror.\n",
      "[02:33:55] WARNING: src/objective/regression_obj.cu:152: reg:linear is now deprecated in favor of reg:squarederror.\n",
      "[02:44:18] WARNING: src/objective/regression_obj.cu:152: reg:linear is now deprecated in favor of reg:squarederror.\n",
      "[03:00:47] WARNING: src/objective/regression_obj.cu:152: reg:linear is now deprecated in favor of reg:squarederror.\n",
      "[03:05:21] WARNING: src/objective/regression_obj.cu:152: reg:linear is now deprecated in favor of reg:squarederror.\n",
      "[03:12:19] WARNING: src/objective/regression_obj.cu:152: reg:linear is now deprecated in favor of reg:squarederror.\n",
      "[03:28:48] WARNING: src/objective/regression_obj.cu:152: reg:linear is now deprecated in favor of reg:squarederror.\n",
      "[03:39:24] WARNING: src/objective/regression_obj.cu:152: reg:linear is now deprecated in favor of reg:squarederror.\n",
      "[03:44:02] WARNING: src/objective/regression_obj.cu:152: reg:linear is now deprecated in favor of reg:squarederror.\n",
      "[03:57:13] WARNING: src/objective/regression_obj.cu:152: reg:linear is now deprecated in favor of reg:squarederror.\n",
      "[04:09:18] WARNING: src/objective/regression_obj.cu:152: reg:linear is now deprecated in favor of reg:squarederror.\n",
      "[04:14:16] WARNING: src/objective/regression_obj.cu:152: reg:linear is now deprecated in favor of reg:squarederror.\n",
      "[04:20:34] WARNING: src/objective/regression_obj.cu:152: reg:linear is now deprecated in favor of reg:squarederror.\n",
      "[04:30:43] WARNING: src/objective/regression_obj.cu:152: reg:linear is now deprecated in favor of reg:squarederror.\n",
      "[04:34:08] WARNING: src/objective/regression_obj.cu:152: reg:linear is now deprecated in favor of reg:squarederror.\n",
      "[04:39:43] WARNING: src/objective/regression_obj.cu:152: reg:linear is now deprecated in favor of reg:squarederror.\n",
      "[04:43:02] WARNING: src/objective/regression_obj.cu:152: reg:linear is now deprecated in favor of reg:squarederror.\n",
      "[05:01:34] WARNING: src/objective/regression_obj.cu:152: reg:linear is now deprecated in favor of reg:squarederror.\n",
      "[05:14:07] WARNING: src/objective/regression_obj.cu:152: reg:linear is now deprecated in favor of reg:squarederror.\n",
      "[05:23:20] WARNING: src/objective/regression_obj.cu:152: reg:linear is now deprecated in favor of reg:squarederror.\n",
      "[05:26:46] WARNING: src/objective/regression_obj.cu:152: reg:linear is now deprecated in favor of reg:squarederror.\n",
      "[05:30:01] WARNING: src/objective/regression_obj.cu:152: reg:linear is now deprecated in favor of reg:squarederror.\n",
      "[05:35:27] WARNING: src/objective/regression_obj.cu:152: reg:linear is now deprecated in favor of reg:squarederror.\n",
      "[05:37:54] WARNING: src/objective/regression_obj.cu:152: reg:linear is now deprecated in favor of reg:squarederror.\n"
     ]
    },
    {
     "name": "stdout",
     "output_type": "stream",
     "text": [
      "[05:42:18] WARNING: src/objective/regression_obj.cu:152: reg:linear is now deprecated in favor of reg:squarederror.\n",
      "[05:47:28] WARNING: src/objective/regression_obj.cu:152: reg:linear is now deprecated in favor of reg:squarederror.\n",
      "[05:52:02] WARNING: src/objective/regression_obj.cu:152: reg:linear is now deprecated in favor of reg:squarederror.\n",
      "[05:58:36] WARNING: src/objective/regression_obj.cu:152: reg:linear is now deprecated in favor of reg:squarederror.\n",
      "[06:05:08] WARNING: src/objective/regression_obj.cu:152: reg:linear is now deprecated in favor of reg:squarederror.\n",
      "[06:10:54] WARNING: src/objective/regression_obj.cu:152: reg:linear is now deprecated in favor of reg:squarederror.\n",
      "[06:16:16] WARNING: src/objective/regression_obj.cu:152: reg:linear is now deprecated in favor of reg:squarederror.\n",
      "[06:24:32] WARNING: src/objective/regression_obj.cu:152: reg:linear is now deprecated in favor of reg:squarederror.\n",
      "[06:30:22] WARNING: src/objective/regression_obj.cu:152: reg:linear is now deprecated in favor of reg:squarederror.\n",
      "[06:42:35] WARNING: src/objective/regression_obj.cu:152: reg:linear is now deprecated in favor of reg:squarederror.\n",
      "[06:51:25] WARNING: src/objective/regression_obj.cu:152: reg:linear is now deprecated in favor of reg:squarederror.\n",
      "[07:08:09] WARNING: src/objective/regression_obj.cu:152: reg:linear is now deprecated in favor of reg:squarederror.\n",
      "[07:11:49] WARNING: src/objective/regression_obj.cu:152: reg:linear is now deprecated in favor of reg:squarederror.\n",
      "[07:22:32] WARNING: src/objective/regression_obj.cu:152: reg:linear is now deprecated in favor of reg:squarederror.\n",
      "[07:25:37] WARNING: src/objective/regression_obj.cu:152: reg:linear is now deprecated in favor of reg:squarederror.\n",
      "[07:34:34] WARNING: src/objective/regression_obj.cu:152: reg:linear is now deprecated in favor of reg:squarederror.\n",
      "[07:36:58] WARNING: src/objective/regression_obj.cu:152: reg:linear is now deprecated in favor of reg:squarederror.\n",
      "[07:44:15] WARNING: src/objective/regression_obj.cu:152: reg:linear is now deprecated in favor of reg:squarederror.\n",
      "[07:49:34] WARNING: src/objective/regression_obj.cu:152: reg:linear is now deprecated in favor of reg:squarederror.\n",
      "[07:52:44] WARNING: src/objective/regression_obj.cu:152: reg:linear is now deprecated in favor of reg:squarederror.\n",
      "[07:59:31] WARNING: src/objective/regression_obj.cu:152: reg:linear is now deprecated in favor of reg:squarederror.\n",
      "[08:20:05] WARNING: src/objective/regression_obj.cu:152: reg:linear is now deprecated in favor of reg:squarederror.\n",
      "[08:25:46] WARNING: src/objective/regression_obj.cu:152: reg:linear is now deprecated in favor of reg:squarederror.\n",
      "[08:28:09] WARNING: src/objective/regression_obj.cu:152: reg:linear is now deprecated in favor of reg:squarederror.\n",
      "[08:43:32] WARNING: src/objective/regression_obj.cu:152: reg:linear is now deprecated in favor of reg:squarederror.\n",
      "[08:50:50] WARNING: src/objective/regression_obj.cu:152: reg:linear is now deprecated in favor of reg:squarederror.\n",
      "[08:58:41] WARNING: src/objective/regression_obj.cu:152: reg:linear is now deprecated in favor of reg:squarederror.\n",
      "[09:08:22] WARNING: src/objective/regression_obj.cu:152: reg:linear is now deprecated in favor of reg:squarederror.\n",
      "[09:16:37] WARNING: src/objective/regression_obj.cu:152: reg:linear is now deprecated in favor of reg:squarederror.\n",
      "[09:21:21] WARNING: src/objective/regression_obj.cu:152: reg:linear is now deprecated in favor of reg:squarederror.\n",
      "100%|██████████| 100/100 [15:12:59<00:00, 547.79s/trial, best loss: 357.5084900582037]\n",
      "{'gamma': 37.54521640992106, 'learning_rate': 0.103418786839322, 'max_depth': 7.84818465792254, 'n_estimators': 240.38318025421248}\n"
     ]
    }
   ],
   "source": [
    "def xgbr_objective(params):\n",
    "    lr = float(params['learning_rate'])\n",
    "    est = int(params['n_estimators'])\n",
    "    md = int(params['max_depth'])\n",
    "    min_loss = float(params['gamma'])\n",
    "#     depth_choice = str(params['depthwise'])\n",
    "    \n",
    "    model = XGBRegressor(learning_rate= lr, n_estimators= est, max_depth= md,\n",
    "                         gamma= min_loss, n_jobs= -1)\n",
    "    \n",
    "    model.fit(X_train, y_train)\n",
    "    predictions = model.predict(X_valid)\n",
    "    score = mean_squared_error(y_valid, predictions)\n",
    "    return score\n",
    "\n",
    "def optimize_xgbr(trial):\n",
    "    params = {'learning_rate': hp.uniform('learning_rate',0,1),\n",
    "              'n_estimators': hp.uniform('n_estimators',50,500),\n",
    "              'max_depth': hp.uniform('max_depth',5,20),\n",
    "              'gamma': hp.uniform('gamma',0,50)\n",
    "           }\n",
    "    best = fmin(fn = xgbr_objective, space = params, algo = tpe.suggest,\n",
    "                trials = xgbr_trials, max_evals = 100, rstate = np.random.RandomState(seed))\n",
    "    \n",
    "    return best\n",
    "\n",
    "xgbr_trials = Trials()\n",
    "best_xgbr = optimize_xgbr(xgbr_trials)\n",
    "print(best_xgbr)"
   ]
  },
  {
   "cell_type": "code",
   "execution_count": 19,
   "metadata": {
    "scrolled": false
   },
   "outputs": [],
   "source": [
    "best_xgbr = round_dict(best_xgbr)\n",
    "best_xgbr_model = XGBRegressor(**best_xgbr, n_jobs = -1)"
   ]
  },
  {
   "cell_type": "markdown",
   "metadata": {},
   "source": [
    "## Comparing Losses of Tuned Models"
   ]
  },
  {
   "cell_type": "code",
   "execution_count": 86,
   "metadata": {},
   "outputs": [],
   "source": [
    "with open('../salary prediction data/initial_scores.pkl', 'rb') as scores:\n",
    "    initial_scores = pickle.load(scores)"
   ]
  },
  {
   "cell_type": "code",
   "execution_count": 103,
   "metadata": {},
   "outputs": [
    {
     "data": {
      "text/html": [
       "<div>\n",
       "<style scoped>\n",
       "    .dataframe tbody tr th:only-of-type {\n",
       "        vertical-align: middle;\n",
       "    }\n",
       "\n",
       "    .dataframe tbody tr th {\n",
       "        vertical-align: top;\n",
       "    }\n",
       "\n",
       "    .dataframe thead th {\n",
       "        text-align: right;\n",
       "    }\n",
       "</style>\n",
       "<table border=\"1\" class=\"dataframe\">\n",
       "  <thead>\n",
       "    <tr style=\"text-align: right;\">\n",
       "      <th></th>\n",
       "      <th>Base MSE Score</th>\n",
       "      <th>Tuned MSE Scores</th>\n",
       "    </tr>\n",
       "    <tr>\n",
       "      <th>Models</th>\n",
       "      <th></th>\n",
       "      <th></th>\n",
       "    </tr>\n",
       "  </thead>\n",
       "  <tbody>\n",
       "    <tr>\n",
       "      <th>RandomForestRegressor</th>\n",
       "      <td>470.919339</td>\n",
       "      <td>0</td>\n",
       "    </tr>\n",
       "    <tr>\n",
       "      <th>XGBRegressor</th>\n",
       "      <td>395.182845</td>\n",
       "      <td>0</td>\n",
       "    </tr>\n",
       "    <tr>\n",
       "      <th>LinearRegression</th>\n",
       "      <td>384.618384</td>\n",
       "      <td>0</td>\n",
       "    </tr>\n",
       "    <tr>\n",
       "      <th>LightGBMRegressor</th>\n",
       "      <td>372.049423</td>\n",
       "      <td>0</td>\n",
       "    </tr>\n",
       "    <tr>\n",
       "      <th>GradientBoostingRegressor</th>\n",
       "      <td>362.088588</td>\n",
       "      <td>0</td>\n",
       "    </tr>\n",
       "  </tbody>\n",
       "</table>\n",
       "</div>"
      ],
      "text/plain": [
       "                           Base MSE Score  Tuned MSE Scores\n",
       "Models                                                     \n",
       "RandomForestRegressor          470.919339                 0\n",
       "XGBRegressor                   395.182845                 0\n",
       "LinearRegression               384.618384                 0\n",
       "LightGBMRegressor              372.049423                 0\n",
       "GradientBoostingRegressor      362.088588                 0"
      ]
     },
     "execution_count": 103,
     "metadata": {},
     "output_type": "execute_result"
    }
   ],
   "source": [
    "bases = pd.DataFrame(initial_scores)\n",
    "bases.index.name = 'Models'\n",
    "bases = bases.rename(columns = {0: 'Base MSE Score'})\n",
    "bases['Tuned MSE Scores'] = 0"
   ]
  },
  {
   "cell_type": "code",
   "execution_count": 74,
   "metadata": {},
   "outputs": [],
   "source": [
    "model_names = ['LinearRegression', 'RandomForestRegressor', \n",
    "               'GradientBoostingRegressor', 'LightGBMRegressor', 'XGBRegressor']"
   ]
  },
  {
   "cell_type": "code",
   "execution_count": 82,
   "metadata": {},
   "outputs": [],
   "source": [
    "trial_losses = [round(trial.best_trial['result']['loss'], 2) for trial in trial_list]\n",
    "trial_losses.insert(0,0) #inserts a 0 at index 0 for the post_linear_regression result"
   ]
  },
  {
   "cell_type": "code",
   "execution_count": 84,
   "metadata": {},
   "outputs": [],
   "source": [
    "model_and_trials = dict(zip(model_names, trial_losses))"
   ]
  },
  {
   "cell_type": "code",
   "execution_count": 85,
   "metadata": {},
   "outputs": [
    {
     "data": {
      "text/plain": [
       "{'LinearRegression': 0,\n",
       " 'RandomForestRegressor': 370.82,\n",
       " 'GradientBoostingRegressor': 356.78,\n",
       " 'LightGBMRegressor': 356.42,\n",
       " 'XGBRegressor': 357.51}"
      ]
     },
     "execution_count": 85,
     "metadata": {},
     "output_type": "execute_result"
    }
   ],
   "source": [
    "model_and_trials"
   ]
  },
  {
   "cell_type": "code",
   "execution_count": 109,
   "metadata": {
    "scrolled": true
   },
   "outputs": [
    {
     "data": {
      "text/html": [
       "<div>\n",
       "<style scoped>\n",
       "    .dataframe tbody tr th:only-of-type {\n",
       "        vertical-align: middle;\n",
       "    }\n",
       "\n",
       "    .dataframe tbody tr th {\n",
       "        vertical-align: top;\n",
       "    }\n",
       "\n",
       "    .dataframe thead th {\n",
       "        text-align: right;\n",
       "    }\n",
       "</style>\n",
       "<table border=\"1\" class=\"dataframe\">\n",
       "  <thead>\n",
       "    <tr style=\"text-align: right;\">\n",
       "      <th></th>\n",
       "      <th>Base MSE Score</th>\n",
       "      <th>Tuned MSE Scores</th>\n",
       "    </tr>\n",
       "    <tr>\n",
       "      <th>Models</th>\n",
       "      <th></th>\n",
       "      <th></th>\n",
       "    </tr>\n",
       "  </thead>\n",
       "  <tbody>\n",
       "    <tr>\n",
       "      <th>RandomForestRegressor</th>\n",
       "      <td>470.919339</td>\n",
       "      <td>370.820000</td>\n",
       "    </tr>\n",
       "    <tr>\n",
       "      <th>XGBRegressor</th>\n",
       "      <td>395.182845</td>\n",
       "      <td>357.510000</td>\n",
       "    </tr>\n",
       "    <tr>\n",
       "      <th>LinearRegression</th>\n",
       "      <td>384.618384</td>\n",
       "      <td>384.618384</td>\n",
       "    </tr>\n",
       "    <tr>\n",
       "      <th>LightGBMRegressor</th>\n",
       "      <td>372.049423</td>\n",
       "      <td>356.420000</td>\n",
       "    </tr>\n",
       "    <tr>\n",
       "      <th>GradientBoostingRegressor</th>\n",
       "      <td>362.088588</td>\n",
       "      <td>356.780000</td>\n",
       "    </tr>\n",
       "  </tbody>\n",
       "</table>\n",
       "</div>"
      ],
      "text/plain": [
       "                           Base MSE Score  Tuned MSE Scores\n",
       "Models                                                     \n",
       "RandomForestRegressor          470.919339        370.820000\n",
       "XGBRegressor                   395.182845        357.510000\n",
       "LinearRegression               384.618384        384.618384\n",
       "LightGBMRegressor              372.049423        356.420000\n",
       "GradientBoostingRegressor      362.088588        356.780000"
      ]
     },
     "execution_count": 109,
     "metadata": {},
     "output_type": "execute_result"
    }
   ],
   "source": [
    "for i in bases.index:\n",
    "    if i == 'LinearRegression':\n",
    "        bases.loc[i, 'Tuned MSE Scores'] = bases.loc[i, 'Base MSE Score']\n",
    "    else:\n",
    "        bases.loc[i, 'Tuned MSE Scores'] = model_and_trials[i]\n",
    "bases"
   ]
  },
  {
   "cell_type": "markdown",
   "metadata": {},
   "source": [
    "## Summary of Tuned Models"
   ]
  },
  {
   "cell_type": "code",
   "execution_count": 156,
   "metadata": {
    "scrolled": false
   },
   "outputs": [
    {
     "data": {
      "image/png": "[encoded data removed]",
      "text/plain": [
       "<Figure size 1080x504 with 1 Axes>"
      ]
     },
     "metadata": {
      "needs_background": "light"
     },
     "output_type": "display_data"
    }
   ],
   "source": [
    "ax = bases.sort_values(by='Tuned MSE Scores', ascending= False).plot(kind = 'bar', figsize = (15,7))\n",
    "plt.xticks(rotation = 15)\n",
    "plt.title('Comparing Base and Tuned MSE scores', fontdict = {'fontsize' : 25})\n",
    "plt.xlabel('ML Models', fontdict= {'fontsize' : 20})\n",
    "plt.ylabel('MSE', fontdict= {'fontsize' : 20})\n",
    "\n",
    "\n",
    "for i in ax.patches:\n",
    "    ax.text(i.get_x()+0.02, i.get_height()-20, str(round((i.get_height()), 2)), fontsize=10, color='white')\n",
    "\n",
    "for ticklabel in (ax.get_xticklabels()):\n",
    "    ticklabel.set_fontsize(15)\n",
    "for ticklabel in (ax.get_yticklabels()):\n",
    "    ticklabel.set_fontsize(15)"
   ]
  },
  {
   "cell_type": "markdown",
   "metadata": {},
   "source": [
    "### Summary: \n",
    "Boosting Regressors yielded the **lowest MSE** with scores of ~356\n",
    "- LightGBM Regressor\n",
    "- GradientBoosting Regressor\n",
    "\n",
    "*Random Forest Regressor* led to a **greatest reduced loss** of 100 MSE"
   ]
  }
 ],
 "metadata": {
  "kernelspec": {
   "display_name": "Python 3",
   "language": "python",
   "name": "python3"
  },
  "language_info": {
   "codemirror_mode": {
    "name": "ipython",
    "version": 3
   },
   "file_extension": ".py",
   "mimetype": "text/x-python",
   "name": "python",
   "nbconvert_exporter": "python",
   "pygments_lexer": "ipython3",
   "version": "3.7.6"
  }
 },
 "nbformat": 4,
 "nbformat_minor": 4
}
